{
 "cells": [
  {
   "cell_type": "code",
   "execution_count": 9,
   "metadata": {},
   "outputs": [
    {
     "name": "stdout",
     "output_type": "stream",
     "text": [
      "<class 'pandas.core.frame.DataFrame'>\n",
      "RangeIndex: 1000 entries, 0 to 999\n",
      "Data columns (total 2 columns):\n",
      " #   Column   Non-Null Count  Dtype \n",
      "---  ------   --------------  ----- \n",
      " 0   no       1000 non-null   int64 \n",
      " 1   comment  990 non-null    object\n",
      "dtypes: int64(1), object(1)\n",
      "memory usage: 15.8+ KB\n"
     ]
    },
    {
     "data": {
      "text/plain": [
       "(   no                                            comment\n",
       " 0   1  Aku cuma pake sunscreen dan krim ini doang, al...\n",
       " 1   2  Simpen dulu di keranjang kuning, nanti check out.\n",
       " 2   3  Muka kusamku jadi segeran setelah rutin pake k...\n",
       " 3   4  Aku cuma pake sunscreen dan krim ini doang, al...\n",
       " 4   5  Masih menjadi misteri kenapa Dr. Fay bisa seba...,\n",
       " None)"
      ]
     },
     "execution_count": 9,
     "metadata": {},
     "output_type": "execute_result"
    }
   ],
   "source": [
    "import pandas as pd\n",
    "\n",
    "# Load the dataset\n",
    "file_path = 'dataset/comments.csv'\n",
    "dataset = pd.read_csv(file_path)\n",
    "\n",
    "# Display the first few rows of the dataset to understand its structure\n",
    "dataset.head(), dataset.info()"
   ]
  },
  {
   "cell_type": "code",
   "execution_count": 10,
   "metadata": {},
   "outputs": [
    {
     "name": "stdout",
     "output_type": "stream",
     "text": [
      "\n",
      "📏 Distribusi Panjang Komentar:\n",
      "count    990.000000\n",
      "mean      67.741414\n",
      "std       26.298239\n",
      "min       27.000000\n",
      "25%       49.000000\n",
      "50%       64.000000\n",
      "75%       80.000000\n",
      "max      144.000000\n",
      "Name: comment_length, dtype: float64\n"
     ]
    }
   ],
   "source": [
    "# Cek distribusi panjang komentar\n",
    "dataset['comment_length'] = dataset['comment'].str.len()\n",
    "print(\"\\n📏 Distribusi Panjang Komentar:\")\n",
    "print(dataset['comment_length'].describe())"
   ]
  },
  {
   "cell_type": "code",
   "execution_count": 11,
   "metadata": {},
   "outputs": [
    {
     "name": "stdout",
     "output_type": "stream",
     "text": [
      "                no  comment_length\n",
      "count  1000.000000      990.000000\n",
      "mean    500.500000       67.741414\n",
      "std     288.819436       26.298239\n",
      "min       1.000000       27.000000\n",
      "25%     250.750000       49.000000\n",
      "50%     500.500000       64.000000\n",
      "75%     750.250000       80.000000\n",
      "max    1000.000000      144.000000\n"
     ]
    }
   ],
   "source": [
    "# Cek ringkasan statistik dataset\n",
    "print(dataset.describe())"
   ]
  },
  {
   "cell_type": "code",
   "execution_count": 12,
   "metadata": {},
   "outputs": [
    {
     "name": "stdout",
     "output_type": "stream",
     "text": [
      "no                 0\n",
      "comment           10\n",
      "comment_length    10\n",
      "dtype: int64\n"
     ]
    }
   ],
   "source": [
    "# Cek jumlah nilai yang hilang\n",
    "print(dataset.isnull().sum())\n"
   ]
  },
  {
   "cell_type": "code",
   "execution_count": 14,
   "metadata": {},
   "outputs": [
    {
     "name": "stdout",
     "output_type": "stream",
     "text": [
      "0\n"
     ]
    }
   ],
   "source": [
    "# Cek jumlah duplikasi\n",
    "print(dataset.duplicated().sum())"
   ]
  },
  {
   "cell_type": "code",
   "execution_count": 15,
   "metadata": {},
   "outputs": [],
   "source": [
    "# Menghapus kolom yang tidak perlu\n",
    "dataset.drop(columns=['no'], inplace=True)"
   ]
  },
  {
   "cell_type": "code",
   "execution_count": 16,
   "metadata": {},
   "outputs": [
    {
     "name": "stdout",
     "output_type": "stream",
     "text": [
      "\n",
      "❓ Jumlah Missing Values:\n",
      "comment           10\n",
      "comment_length    10\n",
      "dtype: int64\n"
     ]
    }
   ],
   "source": [
    "print(\"\\n❓ Jumlah Missing Values:\")\n",
    "print(dataset.isnull().sum())\n",
    "\n",
    "# # Visualisasi missing values\n",
    "# import seaborn as sns\n",
    "# sns.heatmap(dataset.isnull(), cbar=False)"
   ]
  },
  {
   "cell_type": "code",
   "execution_count": 17,
   "metadata": {},
   "outputs": [
    {
     "name": "stdout",
     "output_type": "stream",
     "text": [
      "\n",
      "♻️ Jumlah Duplikat: 946\n"
     ]
    }
   ],
   "source": [
    "print(\"\\n♻️ Jumlah Duplikat:\", dataset.duplicated(subset=['comment']).sum())"
   ]
  },
  {
   "cell_type": "code",
   "execution_count": 20,
   "metadata": {},
   "outputs": [],
   "source": [
    "# Hapus baris dengan komentar null (10 data)\n",
    "cleaned_data = dataset.dropna(subset=['comment'])\n",
    "\n",
    "# Alternatif: Isi dengan placeholder\n",
    "# cleaned_data['comment'] = dataset['comment'].fillna('[KOSONG]')"
   ]
  },
  {
   "cell_type": "code",
   "execution_count": 21,
   "metadata": {},
   "outputs": [
    {
     "name": "stderr",
     "output_type": "stream",
     "text": [
      "C:\\Users\\rfahr\\AppData\\Local\\Temp\\ipykernel_25340\\1740083165.py:2: SettingWithCopyWarning: \n",
      "A value is trying to be set on a copy of a slice from a DataFrame.\n",
      "Try using .loc[row_indexer,col_indexer] = value instead\n",
      "\n",
      "See the caveats in the documentation: https://pandas.pydata.org/pandas-docs/stable/user_guide/indexing.html#returning-a-view-versus-a-copy\n",
      "  cleaned_data['cleaned_comment'] = cleaned_data['comment'].str.lower()\n",
      "C:\\Users\\rfahr\\AppData\\Local\\Temp\\ipykernel_25340\\1740083165.py:5: SettingWithCopyWarning: \n",
      "A value is trying to be set on a copy of a slice from a DataFrame.\n",
      "Try using .loc[row_indexer,col_indexer] = value instead\n",
      "\n",
      "See the caveats in the documentation: https://pandas.pydata.org/pandas-docs/stable/user_guide/indexing.html#returning-a-view-versus-a-copy\n",
      "  cleaned_data['cleaned_comment'] = cleaned_data['cleaned_comment'].str.replace(\n",
      "C:\\Users\\rfahr\\AppData\\Local\\Temp\\ipykernel_25340\\1740083165.py:10: SettingWithCopyWarning: \n",
      "A value is trying to be set on a copy of a slice from a DataFrame.\n",
      "Try using .loc[row_indexer,col_indexer] = value instead\n",
      "\n",
      "See the caveats in the documentation: https://pandas.pydata.org/pandas-docs/stable/user_guide/indexing.html#returning-a-view-versus-a-copy\n",
      "  cleaned_data['cleaned_comment'] = cleaned_data['cleaned_comment'].str.strip()\n"
     ]
    }
   ],
   "source": [
    "# Case folding\n",
    "cleaned_data['cleaned_comment'] = cleaned_data['comment'].str.lower()\n",
    "\n",
    "# Remove special characters (sesuaikan dengan kebutuhan)\n",
    "cleaned_data['cleaned_comment'] = cleaned_data['cleaned_comment'].str.replace(\n",
    "    r'[^\\w\\s]', '', regex=True\n",
    ")\n",
    "\n",
    "# Remove extra whitespace\n",
    "cleaned_data['cleaned_comment'] = cleaned_data['cleaned_comment'].str.strip()"
   ]
  },
  {
   "cell_type": "code",
   "execution_count": 22,
   "metadata": {},
   "outputs": [],
   "source": [
    "cleaned_data = cleaned_data.drop_duplicates(subset=['comment'], keep='first')"
   ]
  },
  {
   "cell_type": "code",
   "execution_count": 23,
   "metadata": {},
   "outputs": [
    {
     "name": "stdout",
     "output_type": "stream",
     "text": [
      "✅ Shape setelah cleaning: (53, 3)\n",
      "✅ Jumlah Missing Values baru: comment            0\n",
      "comment_length     0\n",
      "cleaned_comment    0\n",
      "dtype: int64\n",
      "\n",
      "📝 Contoh Data Bersih:\n",
      "                                     cleaned_comment\n",
      "0  aku cuma pake sunscreen dan krim ini doang alh...\n",
      "1    simpen dulu di keranjang kuning nanti check out\n",
      "2  muka kusamku jadi segeran setelah rutin pake k...\n"
     ]
    }
   ],
   "source": [
    "print(\"✅ Shape setelah cleaning:\", cleaned_data.shape)\n",
    "print(\"✅ Jumlah Missing Values baru:\", cleaned_data.isnull().sum())\n",
    "print(\"\\n📝 Contoh Data Bersih:\")\n",
    "print(cleaned_data[['cleaned_comment']].head(3))"
   ]
  },
  {
   "cell_type": "code",
   "execution_count": 24,
   "metadata": {},
   "outputs": [
    {
     "data": {
      "text/plain": [
       "(np.float64(-0.5), np.float64(399.5), np.float64(199.5), np.float64(-0.5))"
      ]
     },
     "execution_count": 24,
     "metadata": {},
     "output_type": "execute_result"
    },
    {
     "data": {
      "image/png": "[encoded data removed]",
      "text/plain": [
       "<Figure size 640x480 with 1 Axes>"
      ]
     },
     "metadata": {},
     "output_type": "display_data"
    }
   ],
   "source": [
    "from wordcloud import WordCloud\n",
    "import matplotlib.pyplot as plt\n",
    "\n",
    "text = ' '.join(cleaned_data['cleaned_comment'])\n",
    "wordcloud = WordCloud().generate(text)\n",
    "plt.imshow(wordcloud, interpolation='bilinear')\n",
    "plt.axis(\"off\")"
   ]
  },
  {
   "cell_type": "code",
   "execution_count": 25,
   "metadata": {},
   "outputs": [],
   "source": [
    "from textblob import TextBlob\n",
    "cleaned_data['sentiment'] = cleaned_data['cleaned_comment'].apply(\n",
    "    lambda x: TextBlob(x).sentiment.polarity\n",
    ")"
   ]
  },
  {
   "cell_type": "code",
   "execution_count": 26,
   "metadata": {},
   "outputs": [],
   "source": [
    "cleaned_data.to_csv('cleaned_comments.csv', index=False)"
   ]
  },
  {
   "cell_type": "markdown",
   "metadata": {},
   "source": [
    "### Give Label to Comment"
   ]
  },
  {
   "cell_type": "code",
   "execution_count": 220,
   "metadata": {},
   "outputs": [
    {
     "name": "stdout",
     "output_type": "stream",
     "text": [
      "📋 Contoh Data untuk Labeling Manual:\n",
      "                                       cleaned_comment\n",
      "22                  pakenya gampang cepet meresap lagi\n",
      "73     cocok untuk berbagai kalangan dan masalah kulit\n",
      "137  aku juga pake dan cocok kalo jerawat 2 hari aj...\n",
      "15      ini dia yang aku caricari akhirnya ketemu juga\n",
      "87   dikira bakal lengket di kulit eh pas dipake te...\n",
      "6    udah check out kak yang kemarin udah abis dan ...\n",
      "20            baunya juga enak gak nyengat sama sekali\n",
      "154                 ini beneran aku udah nyoba sendiri\n",
      "4    masih menjadi misteri kenapa dr fay bisa sebag...\n",
      "52   pokoknya bintang lima deh buat produk ini luv ...\n"
     ]
    }
   ],
   "source": [
    "# Contoh dataframe untuk labeling manual\n",
    "label_sample = cleaned_data.sample(10, random_state=42)[['cleaned_comment']]\n",
    "print(\"📋 Contoh Data untuk Labeling Manual:\")\n",
    "print(label_sample)"
   ]
  },
  {
   "cell_type": "code",
   "execution_count": 221,
   "metadata": {},
   "outputs": [],
   "source": [
    "# Menggunakan kamus kata positif/negatif Indonesia\n",
    "positive_words = ['bagus', 'mantap', 'luar biasa', 'keren', 'puas', 'suka', 'hebat', 'menyenangkan', 'terbaik', 'cinta','alhamdulillah', 'syukur', 'senang', 'puas', 'puji', 'pujian', 'puji-pujian']\n",
    "negative_words = ['jelek', 'mahal', 'rugi', 'kecewa', 'redam']\n",
    "\n",
    "\n",
    "def rule_based_sentiment(text):\n",
    "    text = text.lower().strip()  # Ubah ke lowercase dan hapus spasi ekstra\n",
    "    positive = sum(word in text for word in positive_words)\n",
    "    negative = sum(word in text for word in negative_words)\n",
    "    \n",
    "    if positive > negative:\n",
    "        return 'positif'\n",
    "    elif negative > positive:\n",
    "        return 'negatif'\n",
    "    else:\n",
    "        return 'netral'\n",
    "cleaned_data['sentiment_rule'] = cleaned_data['cleaned_comment'].apply(rule_based_sentiment)\n"
   ]
  },
  {
   "cell_type": "code",
   "execution_count": 226,
   "metadata": {},
   "outputs": [],
   "source": [
    "cleaned_data.drop(columns=['sentiment_ai', 'final_sentiment'], inplace=True)"
   ]
  },
  {
   "cell_type": "code",
   "execution_count": 265,
   "metadata": {},
   "outputs": [
    {
     "name": "stderr",
     "output_type": "stream",
     "text": [
      "Some weights of BertForSequenceClassification were not initialized from the model checkpoint at indolem/indobert-base-uncased and are newly initialized: ['classifier.bias', 'classifier.weight']\n",
      "You should probably TRAIN this model on a down-stream task to be able to use it for predictions and inference.\n",
      "Device set to use cpu\n"
     ]
    }
   ],
   "source": [
    "# Menggunakan model IndoBERT untuk sentiment analysis\n",
    "from transformers import pipeline\n",
    "\n",
    "# Load model Indonesian sentiment analysis\n",
    "sentiment_analyzer = pipeline(\n",
    "    \"text-classification\",\n",
    "    model=\"indolem/indobert-base-uncased\",\n",
    "    tokenizer=\"indolem/indobert-base-uncased\"\n",
    ")\n",
    "\n",
    "def predict_sentiment(text):\n",
    "    result = sentiment_analyzer(text[:64])  # truncate jika terlalu panjang\n",
    "    return result[0]['label']\n",
    "\n",
    "cleaned_data['sentiment_ai'] = cleaned_data['cleaned_comment'].apply(predict_sentiment)"
   ]
  },
  {
   "cell_type": "code",
   "execution_count": 266,
   "metadata": {},
   "outputs": [
    {
     "name": "stdout",
     "output_type": "stream",
     "text": [
      "🔍 Contoh Ketidakonsistenan Label:\n",
      "                                     cleaned_comment sentiment_rule  \\\n",
      "0  aku cuma pake sunscreen dan krim ini doang alh...        positif   \n",
      "1    simpen dulu di keranjang kuning nanti check out         netral   \n",
      "2  muka kusamku jadi segeran setelah rutin pake k...         netral   \n",
      "\n",
      "  sentiment_ai  \n",
      "0      LABEL_1  \n",
      "1      LABEL_1  \n",
      "2      LABEL_1  \n"
     ]
    }
   ],
   "source": [
    "# Cek konsistensi antara rule-based dan AI\n",
    "consistency_check = cleaned_data[\n",
    "    cleaned_data['sentiment_rule'] != cleaned_data['sentiment_ai']\n",
    "][['cleaned_comment', 'sentiment_rule', 'sentiment_ai']]\n",
    "\n",
    "print(\"🔍 Contoh Ketidakonsistenan Label:\")\n",
    "print(consistency_check.head(3))"
   ]
  },
  {
   "cell_type": "code",
   "execution_count": 267,
   "metadata": {},
   "outputs": [],
   "source": [
    "# Contoh handling khusus untuk netral\n",
    "cleaned_data['final_sentiment'] = cleaned_data['sentiment_ai'].replace({\n",
    "    'LABEL_0': 'negatif',\n",
    "    'LABEL_1': 'positif',\n",
    "    'LABEL_2': 'netral'\n",
    "})"
   ]
  },
  {
   "cell_type": "code",
   "execution_count": 268,
   "metadata": {},
   "outputs": [
    {
     "data": {
      "text/html": [
       "<div>\n",
       "<style scoped>\n",
       "    .dataframe tbody tr th:only-of-type {\n",
       "        vertical-align: middle;\n",
       "    }\n",
       "\n",
       "    .dataframe tbody tr th {\n",
       "        vertical-align: top;\n",
       "    }\n",
       "\n",
       "    .dataframe thead th {\n",
       "        text-align: right;\n",
       "    }\n",
       "</style>\n",
       "<table border=\"1\" class=\"dataframe\">\n",
       "  <thead>\n",
       "    <tr style=\"text-align: right;\">\n",
       "      <th></th>\n",
       "      <th>comment</th>\n",
       "      <th>comment_length</th>\n",
       "      <th>cleaned_comment</th>\n",
       "      <th>sentiment</th>\n",
       "      <th>sentiment_rule</th>\n",
       "      <th>sentiment_ai</th>\n",
       "      <th>final_sentiment</th>\n",
       "    </tr>\n",
       "  </thead>\n",
       "  <tbody>\n",
       "    <tr>\n",
       "      <th>0</th>\n",
       "      <td>Aku cuma pake sunscreen dan krim ini doang, al...</td>\n",
       "      <td>79.0</td>\n",
       "      <td>aku cuma pake sunscreen dan krim ini doang alh...</td>\n",
       "      <td>0.0</td>\n",
       "      <td>positif</td>\n",
       "      <td>LABEL_1</td>\n",
       "      <td>positif</td>\n",
       "    </tr>\n",
       "    <tr>\n",
       "      <th>1</th>\n",
       "      <td>Simpen dulu di keranjang kuning, nanti check out.</td>\n",
       "      <td>49.0</td>\n",
       "      <td>simpen dulu di keranjang kuning nanti check out</td>\n",
       "      <td>0.0</td>\n",
       "      <td>netral</td>\n",
       "      <td>LABEL_1</td>\n",
       "      <td>positif</td>\n",
       "    </tr>\n",
       "    <tr>\n",
       "      <th>2</th>\n",
       "      <td>Muka kusamku jadi segeran setelah rutin pake k...</td>\n",
       "      <td>54.0</td>\n",
       "      <td>muka kusamku jadi segeran setelah rutin pake k...</td>\n",
       "      <td>0.0</td>\n",
       "      <td>netral</td>\n",
       "      <td>LABEL_1</td>\n",
       "      <td>positif</td>\n",
       "    </tr>\n",
       "    <tr>\n",
       "      <th>4</th>\n",
       "      <td>Masih menjadi misteri kenapa Dr. Fay bisa seba...</td>\n",
       "      <td>54.0</td>\n",
       "      <td>masih menjadi misteri kenapa dr fay bisa sebag...</td>\n",
       "      <td>0.0</td>\n",
       "      <td>positif</td>\n",
       "      <td>LABEL_0</td>\n",
       "      <td>negatif</td>\n",
       "    </tr>\n",
       "    <tr>\n",
       "      <th>5</th>\n",
       "      <td>Banyakin produk kayak gini, aku anak kuliahan ...</td>\n",
       "      <td>86.0</td>\n",
       "      <td>banyakin produk kayak gini aku anak kuliahan y...</td>\n",
       "      <td>0.0</td>\n",
       "      <td>netral</td>\n",
       "      <td>LABEL_1</td>\n",
       "      <td>positif</td>\n",
       "    </tr>\n",
       "  </tbody>\n",
       "</table>\n",
       "</div>"
      ],
      "text/plain": [
       "                                             comment  comment_length  \\\n",
       "0  Aku cuma pake sunscreen dan krim ini doang, al...            79.0   \n",
       "1  Simpen dulu di keranjang kuning, nanti check out.            49.0   \n",
       "2  Muka kusamku jadi segeran setelah rutin pake k...            54.0   \n",
       "4  Masih menjadi misteri kenapa Dr. Fay bisa seba...            54.0   \n",
       "5  Banyakin produk kayak gini, aku anak kuliahan ...            86.0   \n",
       "\n",
       "                                     cleaned_comment  sentiment  \\\n",
       "0  aku cuma pake sunscreen dan krim ini doang alh...        0.0   \n",
       "1    simpen dulu di keranjang kuning nanti check out        0.0   \n",
       "2  muka kusamku jadi segeran setelah rutin pake k...        0.0   \n",
       "4  masih menjadi misteri kenapa dr fay bisa sebag...        0.0   \n",
       "5  banyakin produk kayak gini aku anak kuliahan y...        0.0   \n",
       "\n",
       "  sentiment_rule sentiment_ai final_sentiment  \n",
       "0        positif      LABEL_1         positif  \n",
       "1         netral      LABEL_1         positif  \n",
       "2         netral      LABEL_1         positif  \n",
       "4        positif      LABEL_0         negatif  \n",
       "5         netral      LABEL_1         positif  "
      ]
     },
     "execution_count": 268,
     "metadata": {},
     "output_type": "execute_result"
    }
   ],
   "source": [
    "cleaned_data.head()"
   ]
  },
  {
   "cell_type": "code",
   "execution_count": 269,
   "metadata": {},
   "outputs": [
    {
     "name": "stdout",
     "output_type": "stream",
     "text": [
      "🎯 Contoh Data Berlabel:\n",
      "                                       cleaned_comment final_sentiment\n",
      "0    aku cuma pake sunscreen dan krim ini doang alh...         positif\n",
      "1      simpen dulu di keranjang kuning nanti check out         positif\n",
      "2    muka kusamku jadi segeran setelah rutin pake k...         positif\n",
      "4    masih menjadi misteri kenapa dr fay bisa sebag...         negatif\n",
      "5    banyakin produk kayak gini aku anak kuliahan y...         positif\n",
      "6    udah check out kak yang kemarin udah abis dan ...         negatif\n",
      "7    aku termasuk orang yang gak percayaan kalo bel...         positif\n",
      "8    aku juga lagi pake alhamdulillah hasilnya udah...         positif\n",
      "9                      hasilnya nyata dan bagus banget         positif\n",
      "11                  di aku cocok banget makasih banyak         negatif\n",
      "12   kak aku udah abis 3 pot nih udah jadi langgana...         positif\n",
      "13   krimnya ringan gak lengket dan yang penting bi...         positif\n",
      "15      ini dia yang aku caricari akhirnya ketemu juga         negatif\n",
      "16   bakalan langganan ini mah soalnya aku ngerasai...         negatif\n",
      "17   aku dulu dibeliin istri pake ini tapi emang ag...         positif\n",
      "18                          suka banget sama produknya         positif\n",
      "19   tementemenku pada nanyain aku pake skincare ap...         negatif\n",
      "20            baunya juga enak gak nyengat sama sekali         negatif\n",
      "21   aku 2 bulanan udah mulai pudar walaupun belum ...         positif\n",
      "22                  pakenya gampang cepet meresap lagi         negatif\n",
      "23   yang mau hasilnya maksimal pake rutin tiap mau...         positif\n",
      "24   aku saranin kalo mau hasilnya lebih bagus pake...         negatif\n",
      "27   ternyata gak kerasa belum sebulan pake udah ad...         positif\n",
      "29                   tekstur dan kenyamanan penggunaan         negatif\n",
      "32   sumpah pake yang lain gak ada efeknya baru 2 h...         positif\n",
      "36   cocok banget buat anak sekolahan murah tapi ha...         positif\n",
      "38   dulu insecure banget sama bopeng sekarang udah...         positif\n",
      "39   inget ya ini bukan menghilangkan tapi memudark...         positif\n",
      "41   worth it banget sama harganya hasilnya gak bohong         negatif\n",
      "44   aku udah pakai ini baru pakai 3 minggu bopeng ...         positif\n",
      "46     aku pernah order di shopee emang bagus nih krim         negatif\n",
      "49           pelayanannya juga ramah dan fast response         negatif\n",
      "52   pokoknya bintang lima deh buat produk ini luv ...         positif\n",
      "54   akhirnya nemu skincare yang cocok dan gak biki...         positif\n",
      "57   aku cowok yang cuek sama perawatan tapi buat m...         positif\n",
      "62   gak nyangka hasilnya bisa secepat ini recommen...         positif\n",
      "63   lagi dan lagi produk beautyhacks gak pernah ke...         negatif\n",
      "67   gak kecewa sama sekali beli ini cuma pengirima...         positif\n",
      "69      pengirimannya selalu cepet dan packingnya rapi         positif\n",
      "71   aku udah pake sekitar seminggu dan udah keliat...         positif\n",
      "72          teksturnya lembut dan ringan di kulit suka         negatif\n",
      "73     cocok untuk berbagai kalangan dan masalah kulit         negatif\n",
      "74   ringan banget di muka malah mirip kayak skinca...         negatif\n",
      "87   dikira bakal lengket di kulit eh pas dipake te...         positif\n",
      "89     aku pake ini nih inget banget perjuanganku 2023         positif\n",
      "112  lagi make dan memang masih proses semoga ikhti...         positif\n",
      "128    pengiriman cepet juga ya ke bekasi 2 hari sampe         positif\n",
      "137  aku juga pake dan cocok kalo jerawat 2 hari aj...         positif\n",
      "139  banyak yang bilang ini penyelamat kulit yang l...         negatif\n",
      "147  aku udah order di shopee dulu udah abis 2 cup ...         negatif\n"
     ]
    }
   ],
   "source": [
    "print(\"🎯 Contoh Data Berlabel:\")\n",
    "print(cleaned_data[['cleaned_comment', 'final_sentiment']].head(50))"
   ]
  },
  {
   "cell_type": "code",
   "execution_count": 276,
   "metadata": {},
   "outputs": [
    {
     "data": {
      "image/png": "[encoded data removed]",
      "text/plain": [
       "<Figure size 1000x600 with 1 Axes>"
      ]
     },
     "metadata": {},
     "output_type": "display_data"
    }
   ],
   "source": [
    "import matplotlib.pyplot as plt\n",
    "\n",
    "# Visualisasi distribusi sentimen\n",
    "sentiment_dist = cleaned_data['final_sentiment'].value_counts()\n",
    "\n",
    "plt.figure(figsize=(10,6))\n",
    "sentiment_dist.plot(kind='bar', color=['green', 'red', 'blue'])\n",
    "plt.title('Distribusi Sentimen Komentar')\n",
    "plt.xlabel('Kategori Sentimen')\n",
    "plt.ylabel('Jumlah Komentar')\n",
    "plt.xticks(rotation=0)\n",
    "plt.show()"
   ]
  },
  {
   "cell_type": "code",
   "execution_count": 217,
   "metadata": {},
   "outputs": [],
   "source": [
    "# del cleaned_data['sentiment_rule']\n",
    "# cleaned_data['sentiment_rule'] = cleaned_data['cleaned_comment'].apply(rule_based_sentiment)\n",
    "\n",
    "# del cleaned_data['final_sentiment']\n",
    "# cleaned_data['final_sentiment'] = cleaned_data['cleaned_comment'].apply(rule_based_sentiment)"
   ]
  },
  {
   "cell_type": "code",
   "execution_count": 272,
   "metadata": {},
   "outputs": [
    {
     "name": "stdout",
     "output_type": "stream",
     "text": [
      "⚠️ Kasus Konflik Rule vs AI:\n",
      "                                               comment sentiment_rule  \\\n",
      "4    Masih menjadi misteri kenapa Dr. Fay bisa seba...        positif   \n",
      "24   Aku saranin kalo mau hasilnya lebih bagus, pak...        positif   \n",
      "46   Aku pernah order di Shopee, emang bagus nih krim.        positif   \n",
      "67   Gak kecewa sama sekali beli ini, cuma pengirim...        negatif   \n",
      "72        Teksturnya lembut dan ringan di kulit, suka!        positif   \n",
      "147  Aku udah order di Shopee dulu, udah abis 2 cup...        positif   \n",
      "\n",
      "    sentiment_ai_mapped final_sentiment  \n",
      "4               negatif         positif  \n",
      "24              negatif         positif  \n",
      "46              negatif         positif  \n",
      "67              positif         negatif  \n",
      "72              negatif         positif  \n",
      "147             negatif         positif  \n"
     ]
    }
   ],
   "source": [
    "# 1. Mapping label AI ke string yang readable\n",
    "label_mapping = {\n",
    "    'LABEL_0': 'negatif',\n",
    "    'LABEL_1': 'positif',\n",
    "    'LABEL_2': 'netral'\n",
    "}\n",
    "cleaned_data['sentiment_ai_mapped'] = cleaned_data['sentiment_ai'].map(label_mapping)\n",
    "\n",
    "# 2. Fungsi prioritas rule-based\n",
    "def prioritize_rules(row):\n",
    "    # Jika rule-based sudah positif/negatif, ambil rule-based\n",
    "    if row['sentiment_rule'] in ['positif', 'negatif']:\n",
    "        return row['sentiment_rule']\n",
    "    # Jika rule-based netral, pakai AI\n",
    "    else:\n",
    "        return row['sentiment_ai_mapped']\n",
    "\n",
    "# 3. Apply fungsi prioritas\n",
    "cleaned_data['final_sentiment'] = cleaned_data.apply(prioritize_rules, axis=1)\n",
    "\n",
    "# 4. Validasi kasus konflik\n",
    "conflict_cases = cleaned_data[\n",
    "    (cleaned_data['sentiment_rule'] != cleaned_data['sentiment_ai_mapped']) & \n",
    "    (cleaned_data['sentiment_rule'] != 'netral')\n",
    "]\n",
    "\n",
    "print(\"⚠️ Kasus Konflik Rule vs AI:\")\n",
    "print(conflict_cases[['comment', 'sentiment_rule', 'sentiment_ai_mapped', 'final_sentiment']])"
   ]
  },
  {
   "cell_type": "code",
   "execution_count": 277,
   "metadata": {},
   "outputs": [
    {
     "data": {
      "text/html": [
       "<div>\n",
       "<style scoped>\n",
       "    .dataframe tbody tr th:only-of-type {\n",
       "        vertical-align: middle;\n",
       "    }\n",
       "\n",
       "    .dataframe tbody tr th {\n",
       "        vertical-align: top;\n",
       "    }\n",
       "\n",
       "    .dataframe thead th {\n",
       "        text-align: right;\n",
       "    }\n",
       "</style>\n",
       "<table border=\"1\" class=\"dataframe\">\n",
       "  <thead>\n",
       "    <tr style=\"text-align: right;\">\n",
       "      <th></th>\n",
       "      <th>comment</th>\n",
       "      <th>comment_length</th>\n",
       "      <th>cleaned_comment</th>\n",
       "      <th>sentiment</th>\n",
       "      <th>sentiment_rule</th>\n",
       "      <th>sentiment_ai</th>\n",
       "      <th>final_sentiment</th>\n",
       "      <th>sentiment_ai_mapped</th>\n",
       "    </tr>\n",
       "  </thead>\n",
       "  <tbody>\n",
       "    <tr>\n",
       "      <th>0</th>\n",
       "      <td>Aku cuma pake sunscreen dan krim ini doang, al...</td>\n",
       "      <td>79.0</td>\n",
       "      <td>aku cuma pake sunscreen dan krim ini doang alh...</td>\n",
       "      <td>0.0</td>\n",
       "      <td>positif</td>\n",
       "      <td>LABEL_1</td>\n",
       "      <td>positif</td>\n",
       "      <td>positif</td>\n",
       "    </tr>\n",
       "    <tr>\n",
       "      <th>1</th>\n",
       "      <td>Simpen dulu di keranjang kuning, nanti check out.</td>\n",
       "      <td>49.0</td>\n",
       "      <td>simpen dulu di keranjang kuning nanti check out</td>\n",
       "      <td>0.0</td>\n",
       "      <td>netral</td>\n",
       "      <td>LABEL_1</td>\n",
       "      <td>positif</td>\n",
       "      <td>positif</td>\n",
       "    </tr>\n",
       "    <tr>\n",
       "      <th>2</th>\n",
       "      <td>Muka kusamku jadi segeran setelah rutin pake k...</td>\n",
       "      <td>54.0</td>\n",
       "      <td>muka kusamku jadi segeran setelah rutin pake k...</td>\n",
       "      <td>0.0</td>\n",
       "      <td>netral</td>\n",
       "      <td>LABEL_1</td>\n",
       "      <td>positif</td>\n",
       "      <td>positif</td>\n",
       "    </tr>\n",
       "    <tr>\n",
       "      <th>4</th>\n",
       "      <td>Masih menjadi misteri kenapa Dr. Fay bisa seba...</td>\n",
       "      <td>54.0</td>\n",
       "      <td>masih menjadi misteri kenapa dr fay bisa sebag...</td>\n",
       "      <td>0.0</td>\n",
       "      <td>positif</td>\n",
       "      <td>LABEL_0</td>\n",
       "      <td>positif</td>\n",
       "      <td>negatif</td>\n",
       "    </tr>\n",
       "    <tr>\n",
       "      <th>5</th>\n",
       "      <td>Banyakin produk kayak gini, aku anak kuliahan ...</td>\n",
       "      <td>86.0</td>\n",
       "      <td>banyakin produk kayak gini aku anak kuliahan y...</td>\n",
       "      <td>0.0</td>\n",
       "      <td>netral</td>\n",
       "      <td>LABEL_1</td>\n",
       "      <td>positif</td>\n",
       "      <td>positif</td>\n",
       "    </tr>\n",
       "  </tbody>\n",
       "</table>\n",
       "</div>"
      ],
      "text/plain": [
       "                                             comment  comment_length  \\\n",
       "0  Aku cuma pake sunscreen dan krim ini doang, al...            79.0   \n",
       "1  Simpen dulu di keranjang kuning, nanti check out.            49.0   \n",
       "2  Muka kusamku jadi segeran setelah rutin pake k...            54.0   \n",
       "4  Masih menjadi misteri kenapa Dr. Fay bisa seba...            54.0   \n",
       "5  Banyakin produk kayak gini, aku anak kuliahan ...            86.0   \n",
       "\n",
       "                                     cleaned_comment  sentiment  \\\n",
       "0  aku cuma pake sunscreen dan krim ini doang alh...        0.0   \n",
       "1    simpen dulu di keranjang kuning nanti check out        0.0   \n",
       "2  muka kusamku jadi segeran setelah rutin pake k...        0.0   \n",
       "4  masih menjadi misteri kenapa dr fay bisa sebag...        0.0   \n",
       "5  banyakin produk kayak gini aku anak kuliahan y...        0.0   \n",
       "\n",
       "  sentiment_rule sentiment_ai final_sentiment sentiment_ai_mapped  \n",
       "0        positif      LABEL_1         positif             positif  \n",
       "1         netral      LABEL_1         positif             positif  \n",
       "2         netral      LABEL_1         positif             positif  \n",
       "4        positif      LABEL_0         positif             negatif  \n",
       "5         netral      LABEL_1         positif             positif  "
      ]
     },
     "execution_count": 277,
     "metadata": {},
     "output_type": "execute_result"
    }
   ],
   "source": [
    "cleaned_data.head(5)"
   ]
  },
  {
   "cell_type": "code",
   "execution_count": 278,
   "metadata": {},
   "outputs": [],
   "source": [
    "cleaned_data.to_csv('cleaned_comments1.csv', index=False)"
   ]
  },
  {
   "cell_type": "code",
   "execution_count": 279,
   "metadata": {},
   "outputs": [],
   "source": [
    "# Tambahkan confidence score dari model AI\n",
    "cleaned_data['ai_confidence'] = cleaned_data['sentiment_ai'].apply(\n",
    "    lambda x: x['score'] if isinstance(x, dict) else 0.5\n",
    ")\n",
    "\n",
    "def enhanced_priority(row):\n",
    "    # Jika rule-based sudah pasti & confidence AI < threshold\n",
    "    if (row['sentiment_rule'] in ['positif', 'negatif']) and (row['ai_confidence'] < 0.7):\n",
    "        return row['sentiment_rule']\n",
    "    # Jika confidence AI tinggi, override rule-based\n",
    "    elif row['ai_confidence'] >= 0.9:\n",
    "        return row['sentiment_ai_mapped']\n",
    "    else:\n",
    "        return row['sentiment_rule']\n",
    "\n",
    "cleaned_data['final_sentiment_v2'] = cleaned_data.apply(enhanced_priority, axis=1)"
   ]
  },
  {
   "cell_type": "code",
   "execution_count": 280,
   "metadata": {},
   "outputs": [
    {
     "name": "stdout",
     "output_type": "stream",
     "text": [
      "<class 'pandas.core.frame.DataFrame'>\n",
      "RangeIndex: 1000 entries, 0 to 999\n",
      "Data columns (total 2 columns):\n",
      " #   Column   Non-Null Count  Dtype \n",
      "---  ------   --------------  ----- \n",
      " 0   no       1000 non-null   int64 \n",
      " 1   comment  990 non-null    object\n",
      "dtypes: int64(1), object(1)\n",
      "memory usage: 15.8+ KB\n"
     ]
    },
    {
     "data": {
      "text/plain": [
       "(   no                                            comment\n",
       " 0   1  Aku cuma pake sunscreen dan krim ini doang, al...\n",
       " 1   2  Simpen dulu di keranjang kuning, nanti check out.\n",
       " 2   3  Muka kusamku jadi segeran setelah rutin pake k...\n",
       " 3   4  Aku cuma pake sunscreen dan krim ini doang, al...\n",
       " 4   5  Masih menjadi misteri kenapa Dr. Fay bisa seba...,\n",
       " None)"
      ]
     },
     "execution_count": 280,
     "metadata": {},
     "output_type": "execute_result"
    }
   ],
   "source": [
    "import pandas as pd\n",
    "\n",
    "# Load the dataset\n",
    "file_path = 'dataset/comments.csv'\n",
    "dataset = pd.read_csv(file_path)\n",
    "\n",
    "# Display the first few rows of the dataset to understand its structure\n",
    "dataset.head(), dataset.info()"
   ]
  },
  {
   "cell_type": "code",
   "execution_count": null,
   "metadata": {},
   "outputs": [
    {
     "name": "stdout",
     "output_type": "stream",
     "text": [
      "\n",
      "📏 Distribusi Panjang Komentar:\n",
      "count    990.000000\n",
      "mean      67.741414\n",
      "std       26.298239\n",
      "min       27.000000\n",
      "25%       49.000000\n",
      "50%       64.000000\n",
      "75%       80.000000\n",
      "max      144.000000\n",
      "Name: comment_length, dtype: float64\n"
     ]
    }
   ],
   "source": [
    "# Cek distribusi panjang komentar\n",
    "dataset['comment_length'] = dataset['comment'].str.len()\n",
    "print(\"\\n📏 Distribusi Panjang Komentar:\")\n",
    "print(dataset['comment_length'].describe())"
   ]
  },
  {
   "cell_type": "code",
   "execution_count": null,
   "metadata": {},
   "outputs": [
    {
     "name": "stdout",
     "output_type": "stream",
     "text": [
      "       comment_length\n",
      "count      990.000000\n",
      "mean        67.741414\n",
      "std         26.298239\n",
      "min         27.000000\n",
      "25%         49.000000\n",
      "50%         64.000000\n",
      "75%         80.000000\n",
      "max        144.000000\n"
     ]
    }
   ],
   "source": [
    "# Cek ringkasan statistik dataset\n",
    "print(dataset.describe())"
   ]
  },
  {
   "cell_type": "code",
   "execution_count": null,
   "metadata": {},
   "outputs": [
    {
     "name": "stdout",
     "output_type": "stream",
     "text": [
      "no          0\n",
      "comment    10\n",
      "dtype: int64\n"
     ]
    }
   ],
   "source": [
    "# Cek jumlah nilai yang hilang\n",
    "print(dataset.isnull().sum())\n"
   ]
  },
  {
   "cell_type": "code",
   "execution_count": null,
   "metadata": {},
   "outputs": [
    {
     "name": "stdout",
     "output_type": "stream",
     "text": [
      "946\n"
     ]
    }
   ],
   "source": [
    "# Cek jumlah duplikasi\n",
    "print(dataset.duplicated().sum())"
   ]
  },
  {
   "cell_type": "code",
   "execution_count": null,
   "metadata": {},
   "outputs": [],
   "source": [
    "# Menghapus kolom yang tidak perlu\n",
    "dataset.drop(columns=['no'], inplace=True)"
   ]
  },
  {
   "cell_type": "code",
   "execution_count": null,
   "metadata": {},
   "outputs": [
    {
     "name": "stdout",
     "output_type": "stream",
     "text": [
      "\n",
      "📏 Distribusi Panjang Komentar:\n",
      "count    990.000000\n",
      "mean      67.741414\n",
      "std       26.298239\n",
      "min       27.000000\n",
      "25%       49.000000\n",
      "50%       64.000000\n",
      "75%       80.000000\n",
      "max      144.000000\n",
      "Name: comment_length, dtype: float64\n"
     ]
    }
   ],
   "source": []
  },
  {
   "cell_type": "code",
   "execution_count": null,
   "metadata": {},
   "outputs": [
    {
     "name": "stdout",
     "output_type": "stream",
     "text": [
      "\n",
      "❓ Jumlah Missing Values:\n",
      "comment           10\n",
      "comment_length    10\n",
      "dtype: int64\n"
     ]
    }
   ],
   "source": [
    "print(\"\\n❓ Jumlah Missing Values:\")\n",
    "print(dataset.isnull().sum())\n",
    "\n",
    "# # Visualisasi missing values\n",
    "# import seaborn as sns\n",
    "# sns.heatmap(dataset.isnull(), cbar=False)"
   ]
  },
  {
   "cell_type": "code",
   "execution_count": null,
   "metadata": {},
   "outputs": [
    {
     "name": "stdout",
     "output_type": "stream",
     "text": [
      "\n",
      "♻️ Jumlah Duplikat: 946\n"
     ]
    }
   ],
   "source": [
    "print(\"\\n♻️ Jumlah Duplikat:\", dataset.duplicated(subset=['comment']).sum())"
   ]
  }
 ],
 "metadata": {
  "kernelspec": {
   "display_name": "base",
   "language": "python",
   "name": "python3"
  },
  "language_info": {
   "codemirror_mode": {
    "name": "ipython",
    "version": 3
   },
   "file_extension": ".py",
   "mimetype": "text/x-python",
   "name": "python",
   "nbconvert_exporter": "python",
   "pygments_lexer": "ipython3",
   "version": "3.12.8"
  }
 },
 "nbformat": 4,
 "nbformat_minor": 2
}
